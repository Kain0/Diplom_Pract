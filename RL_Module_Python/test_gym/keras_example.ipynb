{
 "cells": [
  {
   "cell_type": "code",
   "execution_count": 233,
   "outputs": [],
   "source": [
    "import gym\n",
    "from gym.spaces import Discrete, Box\n",
    "import numpy as np\n",
    "import random"
   ],
   "metadata": {
    "collapsed": false
   }
  },
  {
   "cell_type": "code",
   "execution_count": 238,
   "outputs": [],
   "source": [
    "class ShowerEnv(gym.Env):\n",
    "\n",
    "    def __init__(self):\n",
    "\n",
    "        #Actions: down, stay, up\n",
    "        self.action_space = Discrete(3)\n",
    "        #Temperature array\n",
    "        self.observation_space = Box(low=np.array([0]), high=np.array([100]), dtype=float)\n",
    "\n",
    "        #Set start temp\n",
    "        #self.state = 38 + random.randint(-3, 3)\n",
    "\n",
    "        # Set shower length\n",
    "        self.shower_length = 60\n",
    "\n",
    "    def step(self, action):\n",
    "        self.state += action - 1\n",
    "        self.shower_length -= 1\n",
    "\n",
    "        if 37 <= self.state <= 39:\n",
    "            reward = 1\n",
    "        else:\n",
    "            if self.state < 37:\n",
    "                reward = -(37 - self.state)\n",
    "            else:\n",
    "                reward = (self.state - 39)\n",
    "\n",
    "        if self.shower_length <= 0:\n",
    "            done = True\n",
    "        else:\n",
    "            done = False\n",
    "\n",
    "        self.state +=  -1 + random.random()*(1 - (-1))\n",
    "\n",
    "        info = {}\n",
    "\n",
    "        return self.state, reward, done, info\n",
    "\n",
    "    def render(self):\n",
    "        pass\n",
    "\n",
    "    def reset(self):\n",
    "        #Set start temp\n",
    "        self.state = 38 + random.randint(-3, 3)\n",
    "        self.shower_length = 60\n",
    "        return self.state\n",
    "        pass\n"
   ],
   "metadata": {
    "collapsed": false
   }
  },
  {
   "cell_type": "code",
   "execution_count": 239,
   "outputs": [
    {
     "name": "stderr",
     "output_type": "stream",
     "text": [
      "C:\\Users\\andre\\PycharmProjects\\RL_Module\\venv\\lib\\site-packages\\gym\\spaces\\box.py:73: UserWarning: \u001B[33mWARN: Box bound precision lowered by casting to float64\u001B[0m\n",
      "  logger.warn(\n"
     ]
    }
   ],
   "source": [
    "env = ShowerEnv()"
   ],
   "metadata": {
    "collapsed": false
   }
  },
  {
   "cell_type": "code",
   "execution_count": 240,
   "outputs": [
    {
     "data": {
      "text/plain": "array([46.71726774])"
     },
     "execution_count": 240,
     "metadata": {},
     "output_type": "execute_result"
    }
   ],
   "source": [
    "env.observation_space.sample()"
   ],
   "metadata": {
    "collapsed": false
   }
  },
  {
   "cell_type": "code",
   "execution_count": 241,
   "outputs": [
    {
     "name": "stdout",
     "output_type": "stream",
     "text": [
      "Episode: 1 Score 497.1953818248798\n",
      "Episode: 2 Score -189.74274746121955\n",
      "Episode: 3 Score 72.09828653492463\n",
      "Episode: 4 Score -426.0845281580085\n",
      "Episode: 5 Score -129.21173376626223\n",
      "Episode: 6 Score 28.610603328575387\n",
      "Episode: 7 Score 232.98224296217884\n",
      "Episode: 8 Score -364.8290969336085\n",
      "Episode: 9 Score -0.22339441928889414\n",
      "Episode: 10 Score -110.83700983488538\n"
     ]
    }
   ],
   "source": [
    "episodes = 10\n",
    "for episode in range(1, episodes + 1):\n",
    "    state = env.reset()\n",
    "    done = False\n",
    "    score = 0\n",
    "\n",
    "    while not done:\n",
    "        env.render()\n",
    "        action = env.action_space.sample()\n",
    "        n_state, reward, done, info = env.step(action)\n",
    "        score += reward\n",
    "    print('Episode: {} Score {}'.format(episode, score))"
   ],
   "metadata": {
    "collapsed": false
   }
  },
  {
   "cell_type": "code",
   "execution_count": 242,
   "outputs": [],
   "source": [
    "import numpy as np\n",
    "from tensorflow.keras.models import Sequential\n",
    "from tensorflow.keras.layers import Dense, Flatten\n",
    "from tensorflow.keras.optimizers import Adam"
   ],
   "metadata": {
    "collapsed": false
   }
  },
  {
   "cell_type": "code",
   "execution_count": 243,
   "outputs": [],
   "source": [
    "states = env.observation_space.shape\n",
    "actions = env.action_space.n"
   ],
   "metadata": {
    "collapsed": false
   }
  },
  {
   "cell_type": "code",
   "execution_count": 244,
   "outputs": [
    {
     "data": {
      "text/plain": "3"
     },
     "execution_count": 244,
     "metadata": {},
     "output_type": "execute_result"
    }
   ],
   "source": [
    "actions"
   ],
   "metadata": {
    "collapsed": false
   }
  },
  {
   "cell_type": "code",
   "execution_count": 245,
   "outputs": [],
   "source": [
    "def build_model(states, actions):\n",
    "    model = Sequential()\n",
    "    model.add(Dense(128, activation='relu', input_shape = states))\n",
    "    model.add(Dense(64, activation = 'relu'))\n",
    "    model.add(Dense(actions, activation='linear'))\n",
    "    return model"
   ],
   "metadata": {
    "collapsed": false
   }
  },
  {
   "cell_type": "code",
   "execution_count": 246,
   "outputs": [],
   "source": [
    "model = build_model(states, actions)"
   ],
   "metadata": {
    "collapsed": false
   }
  },
  {
   "cell_type": "code",
   "execution_count": 246,
   "outputs": [],
   "source": [],
   "metadata": {
    "collapsed": false
   }
  },
  {
   "cell_type": "code",
   "execution_count": 247,
   "outputs": [
    {
     "name": "stdout",
     "output_type": "stream",
     "text": [
      "Model: \"sequential_13\"\n",
      "_________________________________________________________________\n",
      " Layer (type)                Output Shape              Param #   \n",
      "=================================================================\n",
      " dense_39 (Dense)            (None, 128)               256       \n",
      "                                                                 \n",
      " dense_40 (Dense)            (None, 64)                8256      \n",
      "                                                                 \n",
      " dense_41 (Dense)            (None, 3)                 195       \n",
      "                                                                 \n",
      "=================================================================\n",
      "Total params: 8,707\n",
      "Trainable params: 8,707\n",
      "Non-trainable params: 0\n",
      "_________________________________________________________________\n"
     ]
    }
   ],
   "source": [
    "model.summary()"
   ],
   "metadata": {
    "collapsed": false
   }
  },
  {
   "cell_type": "code",
   "execution_count": 248,
   "outputs": [],
   "source": [
    "from tensorflow.keras.optimizers.legacy import Adam\n",
    "\n",
    "from rl.agents import DQNAgent\n",
    "from rl.policy import BoltzmannQPolicy\n",
    "from rl.memory import SequentialMemory"
   ],
   "metadata": {
    "collapsed": false
   }
  },
  {
   "cell_type": "code",
   "execution_count": 249,
   "outputs": [],
   "source": [
    "def build_agent(model, actions):\n",
    "    policy = BoltzmannQPolicy()\n",
    "    memory = SequentialMemory(limit=50000, window_length=1)\n",
    "    dqn =DQNAgent(model=model, memory=memory, policy=policy,\n",
    "                  nb_actions=actions, nb_steps_warmup=10, target_model_update=1e-2)\n",
    "    return dqn"
   ],
   "metadata": {
    "collapsed": false
   }
  },
  {
   "cell_type": "code",
   "execution_count": 250,
   "outputs": [
    {
     "name": "stdout",
     "output_type": "stream",
     "text": [
      "Training for 50000 steps ...\n",
      "Interval 1 (0 steps performed)\n",
      "    1/10000 [..............................] - ETA: 31:31 - reward: -3.0000"
     ]
    },
    {
     "name": "stderr",
     "output_type": "stream",
     "text": [
      "C:\\Users\\andre\\PycharmProjects\\RL_Module\\venv\\lib\\site-packages\\keras\\engine\\training_v1.py:2359: UserWarning: `Model.state_updates` will be removed in a future version. This property should not be used in TensorFlow 2.0, as `updates` are applied automatically.\n",
      "  updates=self.state_updates,\n",
      "C:\\Users\\andre\\PycharmProjects\\RL_Module\\venv\\lib\\site-packages\\rl\\memory.py:37: UserWarning: Not enough entries to sample without replacement. Consider increasing your warm-up phase to avoid oversampling!\n",
      "  warnings.warn('Not enough entries to sample without replacement. Consider increasing your warm-up phase to avoid oversampling!')\n"
     ]
    },
    {
     "name": "stdout",
     "output_type": "stream",
     "text": [
      "10000/10000 [==============================] - 38s 4ms/step - reward: 10.3814\n",
      "166 episodes - episode_reward: 625.409 [-656.097, 1968.326] - loss: 5794.424 - mae: 402.775 - mean_q: 616.879\n",
      "\n",
      "Interval 2 (10000 steps performed)\n",
      "10000/10000 [==============================] - 41s 4ms/step - reward: 0.4341\n",
      "167 episodes - episode_reward: 25.573 [-637.624, 787.161] - loss: 10009.078 - mae: 627.729 - mean_q: 949.742\n",
      "\n",
      "Interval 3 (20000 steps performed)\n",
      "10000/10000 [==============================] - 43s 4ms/step - reward: 0.4249\n",
      "167 episodes - episode_reward: 25.843 [-543.868, 779.743] - loss: 8516.475 - mae: 585.737 - mean_q: 884.716\n",
      "\n",
      "Interval 4 (30000 steps performed)\n",
      "10000/10000 [==============================] - 44s 4ms/step - reward: 0.0938\n",
      "166 episodes - episode_reward: 5.967 [-526.399, 548.448] - loss: 8231.350 - mae: 606.166 - mean_q: 916.857\n",
      "\n",
      "Interval 5 (40000 steps performed)\n",
      "10000/10000 [==============================] - 44s 4ms/step - reward: -0.1154\n",
      "done, took 209.879 seconds\n"
     ]
    },
    {
     "data": {
      "text/plain": "<keras.callbacks.History at 0x223ad6a03d0>"
     },
     "execution_count": 250,
     "metadata": {},
     "output_type": "execute_result"
    }
   ],
   "source": [
    "dqn = build_agent(model, actions)\n",
    "dqn.compile(Adam(learning_rate=1e-3), metrics=['mae'])\n",
    "dqn.fit(env, nb_steps=50000, visualize=False, verbose=1)\n"
   ],
   "metadata": {
    "collapsed": false
   }
  },
  {
   "cell_type": "code",
   "execution_count": 251,
   "outputs": [
    {
     "name": "stdout",
     "output_type": "stream",
     "text": [
      "Testing for 15 episodes ...\n"
     ]
    },
    {
     "ename": "TypeError",
     "evalue": "ShowerEnv.render() got an unexpected keyword argument 'mode'",
     "output_type": "error",
     "traceback": [
      "\u001B[1;31m---------------------------------------------------------------------------\u001B[0m",
      "\u001B[1;31mTypeError\u001B[0m                                 Traceback (most recent call last)",
      "Cell \u001B[1;32mIn[251], line 1\u001B[0m\n\u001B[1;32m----> 1\u001B[0m _ \u001B[38;5;241m=\u001B[39m \u001B[43mdqn\u001B[49m\u001B[38;5;241;43m.\u001B[39;49m\u001B[43mtest\u001B[49m\u001B[43m(\u001B[49m\u001B[43menv\u001B[49m\u001B[43m,\u001B[49m\u001B[43m \u001B[49m\u001B[43mnb_episodes\u001B[49m\u001B[38;5;241;43m=\u001B[39;49m\u001B[38;5;241;43m15\u001B[39;49m\u001B[43m,\u001B[49m\u001B[43m \u001B[49m\u001B[43mvisualize\u001B[49m\u001B[38;5;241;43m=\u001B[39;49m\u001B[38;5;28;43;01mTrue\u001B[39;49;00m\u001B[43m)\u001B[49m\n",
      "File \u001B[1;32m~\\PycharmProjects\\RL_Module\\venv\\lib\\site-packages\\rl\\core.py:352\u001B[0m, in \u001B[0;36mAgent.test\u001B[1;34m(self, env, nb_episodes, action_repetition, callbacks, visualize, nb_max_episode_steps, nb_max_start_steps, start_step_policy, verbose)\u001B[0m\n\u001B[0;32m    350\u001B[0m \u001B[38;5;28;01mif\u001B[39;00m \u001B[38;5;28mself\u001B[39m\u001B[38;5;241m.\u001B[39mprocessor \u001B[38;5;129;01mis\u001B[39;00m \u001B[38;5;129;01mnot\u001B[39;00m \u001B[38;5;28;01mNone\u001B[39;00m:\n\u001B[0;32m    351\u001B[0m     observation, r, d, info \u001B[38;5;241m=\u001B[39m \u001B[38;5;28mself\u001B[39m\u001B[38;5;241m.\u001B[39mprocessor\u001B[38;5;241m.\u001B[39mprocess_step(observation, r, d, info)\n\u001B[1;32m--> 352\u001B[0m \u001B[43mcallbacks\u001B[49m\u001B[38;5;241;43m.\u001B[39;49m\u001B[43mon_action_end\u001B[49m\u001B[43m(\u001B[49m\u001B[43maction\u001B[49m\u001B[43m)\u001B[49m\n\u001B[0;32m    353\u001B[0m reward \u001B[38;5;241m+\u001B[39m\u001B[38;5;241m=\u001B[39m r\n\u001B[0;32m    354\u001B[0m \u001B[38;5;28;01mfor\u001B[39;00m key, value \u001B[38;5;129;01min\u001B[39;00m info\u001B[38;5;241m.\u001B[39mitems():\n",
      "File \u001B[1;32m~\\PycharmProjects\\RL_Module\\venv\\lib\\site-packages\\rl\\callbacks.py:98\u001B[0m, in \u001B[0;36mCallbackList.on_action_end\u001B[1;34m(self, action, logs)\u001B[0m\n\u001B[0;32m     96\u001B[0m \u001B[38;5;28;01mfor\u001B[39;00m callback \u001B[38;5;129;01min\u001B[39;00m \u001B[38;5;28mself\u001B[39m\u001B[38;5;241m.\u001B[39mcallbacks:\n\u001B[0;32m     97\u001B[0m     \u001B[38;5;28;01mif\u001B[39;00m \u001B[38;5;28mcallable\u001B[39m(\u001B[38;5;28mgetattr\u001B[39m(callback, \u001B[38;5;124m'\u001B[39m\u001B[38;5;124mon_action_end\u001B[39m\u001B[38;5;124m'\u001B[39m, \u001B[38;5;28;01mNone\u001B[39;00m)):\n\u001B[1;32m---> 98\u001B[0m         \u001B[43mcallback\u001B[49m\u001B[38;5;241;43m.\u001B[39;49m\u001B[43mon_action_end\u001B[49m\u001B[43m(\u001B[49m\u001B[43maction\u001B[49m\u001B[43m,\u001B[49m\u001B[43m \u001B[49m\u001B[43mlogs\u001B[49m\u001B[38;5;241;43m=\u001B[39;49m\u001B[43mlogs\u001B[49m\u001B[43m)\u001B[49m\n",
      "File \u001B[1;32m~\\PycharmProjects\\RL_Module\\venv\\lib\\site-packages\\rl\\callbacks.py:360\u001B[0m, in \u001B[0;36mVisualizer.on_action_end\u001B[1;34m(self, action, logs)\u001B[0m\n\u001B[0;32m    358\u001B[0m \u001B[38;5;28;01mdef\u001B[39;00m \u001B[38;5;21mon_action_end\u001B[39m(\u001B[38;5;28mself\u001B[39m, action, logs):\n\u001B[0;32m    359\u001B[0m \u001B[38;5;250m    \u001B[39m\u001B[38;5;124;03m\"\"\" Render environment at the end of each action \"\"\"\u001B[39;00m\n\u001B[1;32m--> 360\u001B[0m     \u001B[38;5;28;43mself\u001B[39;49m\u001B[38;5;241;43m.\u001B[39;49m\u001B[43menv\u001B[49m\u001B[38;5;241;43m.\u001B[39;49m\u001B[43mrender\u001B[49m\u001B[43m(\u001B[49m\u001B[43mmode\u001B[49m\u001B[38;5;241;43m=\u001B[39;49m\u001B[38;5;124;43m'\u001B[39;49m\u001B[38;5;124;43mhuman\u001B[39;49m\u001B[38;5;124;43m'\u001B[39;49m\u001B[43m)\u001B[49m\n",
      "\u001B[1;31mTypeError\u001B[0m: ShowerEnv.render() got an unexpected keyword argument 'mode'"
     ]
    }
   ],
   "source": [
    "_ = dqn.test(env, nb_episodes=15, visualize=True)"
   ],
   "metadata": {
    "collapsed": false
   }
  },
  {
   "cell_type": "code",
   "execution_count": 252,
   "outputs": [
    {
     "name": "stdout",
     "output_type": "stream",
     "text": [
      "Testing for 100 episodes ...\n",
      "Episode 1: reward: 2018.483, steps: 60\n",
      "Episode 2: reward: 1882.412, steps: 60\n",
      "Episode 3: reward: 1836.541, steps: 60\n",
      "Episode 4: reward: 1635.352, steps: 60\n",
      "Episode 5: reward: 1882.205, steps: 60\n",
      "Episode 6: reward: 2145.592, steps: 60\n",
      "Episode 7: reward: 1664.948, steps: 60\n",
      "Episode 8: reward: 1893.519, steps: 60\n",
      "Episode 9: reward: 1537.306, steps: 60\n",
      "Episode 10: reward: 1681.470, steps: 60\n",
      "Episode 11: reward: 1490.194, steps: 60\n",
      "Episode 12: reward: 1896.565, steps: 60\n",
      "Episode 13: reward: 1485.979, steps: 60\n",
      "Episode 14: reward: 1691.272, steps: 60\n",
      "Episode 15: reward: 1768.341, steps: 60\n",
      "Episode 16: reward: 1572.377, steps: 60\n",
      "Episode 17: reward: 1756.956, steps: 60\n",
      "Episode 18: reward: 1831.596, steps: 60\n",
      "Episode 19: reward: 1531.223, steps: 60\n",
      "Episode 20: reward: 1446.817, steps: 60\n",
      "Episode 21: reward: 1892.028, steps: 60\n",
      "Episode 22: reward: 1967.482, steps: 60\n",
      "Episode 23: reward: 1916.352, steps: 60\n",
      "Episode 24: reward: 1747.703, steps: 60\n",
      "Episode 25: reward: 1612.639, steps: 60\n",
      "Episode 26: reward: 1641.184, steps: 60\n",
      "Episode 27: reward: 1454.830, steps: 60\n",
      "Episode 28: reward: 1642.591, steps: 60\n",
      "Episode 29: reward: 1508.717, steps: 60\n",
      "Episode 30: reward: 1472.399, steps: 60\n",
      "Episode 31: reward: 1657.705, steps: 60\n",
      "Episode 32: reward: 1941.584, steps: 60\n",
      "Episode 33: reward: 2156.701, steps: 60\n",
      "Episode 34: reward: 1675.099, steps: 60\n",
      "Episode 35: reward: 1767.367, steps: 60\n",
      "Episode 36: reward: 2002.111, steps: 60\n",
      "Episode 37: reward: 1538.041, steps: 60\n",
      "Episode 38: reward: 1893.451, steps: 60\n",
      "Episode 39: reward: 2044.017, steps: 60\n",
      "Episode 40: reward: 1861.460, steps: 60\n",
      "Episode 41: reward: 1931.147, steps: 60\n",
      "Episode 42: reward: 1844.928, steps: 60\n",
      "Episode 43: reward: 1712.669, steps: 60\n",
      "Episode 44: reward: 1914.512, steps: 60\n",
      "Episode 45: reward: 1574.208, steps: 60\n",
      "Episode 46: reward: 1810.651, steps: 60\n",
      "Episode 47: reward: 1582.348, steps: 60\n",
      "Episode 48: reward: 1741.307, steps: 60\n",
      "Episode 49: reward: 1929.397, steps: 60\n",
      "Episode 50: reward: 1604.705, steps: 60\n",
      "Episode 51: reward: 2094.126, steps: 60\n",
      "Episode 52: reward: 1477.468, steps: 60\n",
      "Episode 53: reward: 1640.213, steps: 60\n",
      "Episode 54: reward: 1862.352, steps: 60\n",
      "Episode 55: reward: 1795.609, steps: 60\n",
      "Episode 56: reward: 1778.484, steps: 60\n",
      "Episode 57: reward: 1574.986, steps: 60\n",
      "Episode 58: reward: 1485.890, steps: 60\n",
      "Episode 59: reward: 1845.898, steps: 60\n",
      "Episode 60: reward: 1754.388, steps: 60\n",
      "Episode 61: reward: 1888.508, steps: 60\n",
      "Episode 62: reward: 1740.441, steps: 60\n",
      "Episode 63: reward: 1738.298, steps: 60\n",
      "Episode 64: reward: 2063.150, steps: 60\n",
      "Episode 65: reward: 1745.282, steps: 60\n",
      "Episode 66: reward: 1752.833, steps: 60\n",
      "Episode 67: reward: 1719.244, steps: 60\n",
      "Episode 68: reward: 1860.814, steps: 60\n",
      "Episode 69: reward: 1464.751, steps: 60\n",
      "Episode 70: reward: 1615.094, steps: 60\n",
      "Episode 71: reward: 1622.118, steps: 60\n",
      "Episode 72: reward: 1786.676, steps: 60\n",
      "Episode 73: reward: 1586.666, steps: 60\n",
      "Episode 74: reward: 1877.994, steps: 60\n",
      "Episode 75: reward: 1806.967, steps: 60\n",
      "Episode 76: reward: 1793.145, steps: 60\n",
      "Episode 77: reward: 1984.913, steps: 60\n",
      "Episode 78: reward: 1787.791, steps: 60\n",
      "Episode 79: reward: 1790.129, steps: 60\n",
      "Episode 80: reward: 1924.938, steps: 60\n",
      "Episode 81: reward: 1849.606, steps: 60\n",
      "Episode 82: reward: 1882.032, steps: 60\n",
      "Episode 83: reward: 2216.499, steps: 60\n",
      "Episode 84: reward: 1886.043, steps: 60\n",
      "Episode 85: reward: 1648.904, steps: 60\n",
      "Episode 86: reward: 1693.860, steps: 60\n",
      "Episode 87: reward: 1813.220, steps: 60\n",
      "Episode 88: reward: 1681.259, steps: 60\n",
      "Episode 89: reward: 2091.917, steps: 60\n",
      "Episode 90: reward: 1986.051, steps: 60\n",
      "Episode 91: reward: 1434.955, steps: 60\n",
      "Episode 92: reward: 1680.425, steps: 60\n",
      "Episode 93: reward: 1873.578, steps: 60\n",
      "Episode 94: reward: 1839.961, steps: 60\n",
      "Episode 95: reward: 1805.324, steps: 60\n",
      "Episode 96: reward: 1460.473, steps: 60\n",
      "Episode 97: reward: 2049.727, steps: 60\n",
      "Episode 98: reward: 2087.186, steps: 60\n",
      "Episode 99: reward: 1670.209, steps: 60\n",
      "Episode 100: reward: 1938.152, steps: 60\n",
      "1771.3702678644386\n"
     ]
    }
   ],
   "source": [
    "scores = dqn.test(env, nb_episodes=100, visualize=False)\n",
    "print(np.mean(scores.history['episode_reward']))"
   ],
   "metadata": {
    "collapsed": false
   }
  },
  {
   "cell_type": "code",
   "execution_count": null,
   "outputs": [],
   "source": [],
   "metadata": {
    "collapsed": false
   }
  }
 ],
 "metadata": {
  "kernelspec": {
   "display_name": "Python 3",
   "language": "python",
   "name": "python3"
  },
  "language_info": {
   "codemirror_mode": {
    "name": "ipython",
    "version": 2
   },
   "file_extension": ".py",
   "mimetype": "text/x-python",
   "name": "python",
   "nbconvert_exporter": "python",
   "pygments_lexer": "ipython2",
   "version": "2.7.6"
  }
 },
 "nbformat": 4,
 "nbformat_minor": 0
}
